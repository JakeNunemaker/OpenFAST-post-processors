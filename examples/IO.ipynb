{
 "cells": [
  {
   "cell_type": "markdown",
   "metadata": {},
   "source": [
    "### Classes for working with OpenFAST Outputs\n",
    "\n",
    "Jake Nunemaker\n",
    "\n",
    "National Renewable Energy Lab"
   ]
  },
  {
   "cell_type": "code",
   "execution_count": 1,
   "metadata": {},
   "outputs": [],
   "source": [
    "import os\n",
    "import pandas as pd\n",
    "\n",
    "from OpenFAST_IO import OpenFASTOutput, OpenFASTBinary, OpenFASTAscii\n",
    "\n",
    "ROOT = os.path.abspath(os.path.join(os.getcwd(), \"..\"))\n",
    "DATA = os.path.join(ROOT, \"tests\", \"data\")"
   ]
  },
  {
   "cell_type": "markdown",
   "metadata": {},
   "source": [
    "#### Reading OpenFAST Binary and ASCII Outputs"
   ]
  },
  {
   "cell_type": "code",
   "execution_count": 2,
   "metadata": {},
   "outputs": [
    {
     "name": "stdout",
     "output_type": "stream",
     "text": [
      "Predictions were generated on 07-Jul-2020 at 21:55:36 using OpenFAST, compiled as a 64-bit application using single precision at commit v2.2.0-10-g6d9e2b9f linked with  NWTC Subroutine Library; ElastoDyn; InflowWind; AeroDyn; ServoDyn; HydroDyn; Description from the FAST input file: Generated with AeroElasticSE FAST driver\n"
     ]
    }
   ],
   "source": [
    "# OpenFASTBinary and OpenFASTAscii are used to load file based OpenFASt outputs\n",
    "filepath = os.path.join(DATA, \"IEA15MW_DLC_ED_000.outb\")\n",
    "output = OpenFASTBinary(filepath)\n",
    "output.read()\n",
    "print(output)"
   ]
  },
  {
   "cell_type": "code",
   "execution_count": 3,
   "metadata": {},
   "outputs": [
    {
     "data": {
      "text/plain": [
       "array([[ 1.00000000e+02,  2.50940251e+00, -5.76725006e-01, ...,\n",
       "         0.00000000e+00,  0.00000000e+00, -1.51300535e-01],\n",
       "       [ 1.00010000e+02,  2.50962973e+00, -6.03225768e-01, ...,\n",
       "         0.00000000e+00,  0.00000000e+00, -1.53117880e-01],\n",
       "       [ 1.00020000e+02,  2.50985694e+00, -6.29648626e-01, ...,\n",
       "         0.00000000e+00,  0.00000000e+00, -1.54935241e-01],\n",
       "       ...,\n",
       "       [ 6.99980000e+02,  3.10122466e+00,  2.00371534e-01, ...,\n",
       "         0.00000000e+00,  0.00000000e+00, -1.64021969e-01],\n",
       "       [ 6.99990000e+02,  3.10198212e+00,  1.95461094e-01, ...,\n",
       "         0.00000000e+00,  0.00000000e+00, -1.67606190e-01],\n",
       "       [ 7.00000000e+02,  3.10281539e+00,  1.90550655e-01, ...,\n",
       "         0.00000000e+00,  0.00000000e+00, -1.71190396e-01]])"
      ]
     },
     "execution_count": 3,
     "metadata": {},
     "output_type": "execute_result"
    }
   ],
   "source": [
    "# Data can be output as a numpy array or a panda DataFrame:\n",
    "\n",
    "output.data  # numpy array\n",
    "# output.df    # pandas DataFrame"
   ]
  },
  {
   "cell_type": "code",
   "execution_count": 4,
   "metadata": {},
   "outputs": [
    {
     "data": {
      "text/plain": [
       "array([2.50940251, 2.50962973, 2.50985694, ..., 3.10122466, 3.10198212,\n",
       "       3.10281539])"
      ]
     },
     "execution_count": 4,
     "metadata": {},
     "output_type": "execute_result"
    }
   ],
   "source": [
    "# Individual columns can be accessed with dictionary style access:\n",
    "output[\"Wind1VelX\"]"
   ]
  },
  {
   "cell_type": "code",
   "execution_count": 5,
   "metadata": {},
   "outputs": [
    {
     "data": {
      "text/plain": [
       "array([ 1.00000000e+02,  6.17585957e-01, -2.54690242e+00, -1.65664721e+00,\n",
       "        1.82391261e-03,  0.00000000e+00,  4.44834137e+00, -1.56256938e+00,\n",
       "       -8.82340918e+03, -1.01468232e+04, -8.82340918e+03, -1.05159502e+04,\n",
       "       -1.01468232e+04, -8.48436621e+03, -1.57903793e+02, -3.84676685e+03,\n",
       "        0.00000000e+00,  5.69689810e-01,  0.00000000e+00,  0.00000000e+00,\n",
       "        0.00000000e+00,  0.00000000e+00,  5.49044151e+01, -6.56993774e+02,\n",
       "       -2.14266205e+02, -1.79472148e+04, -1.78961426e+04, -1.79563887e+04,\n",
       "       -1.75554160e+04, -1.75819473e+04, -1.75288379e+04,  3.05670508e+03,\n",
       "        2.62190967e+03,  2.61701318e+03,  3.48308643e+03,  2.46614087e+03,\n",
       "        2.76732422e+03, -2.09508820e+02, -2.03883041e+02, -2.07282837e+02,\n",
       "        4.44834137e+00,  3.43129974e+02, -2.54771786e+01, -6.84458154e+03,\n",
       "        8.93623474e+02, -4.85614926e-01, -1.53558776e-01,  0.00000000e+00,\n",
       "        4.72199857e-01,  3.41934532e-01,  3.66377890e-01,  5.69689810e-01,\n",
       "        4.37000990e-01,  4.63324070e-01, -1.52539539e+00, -1.51788461e+00,\n",
       "       -1.51544929e+00, -1.56256938e+00, -1.57213175e+00, -1.55464292e+00,\n",
       "       -2.88477510e-01, -2.77169496e-01, -2.81085521e-01, -4.50882435e-01,\n",
       "       -1.45245001e-01, -6.01592656e+04, -1.05563188e+05, -9.91636914e+03,\n",
       "        0.00000000e+00, -2.75874268e+02, -3.74507080e+02, -9.15052441e+03,\n",
       "       -1.86213171e+03, -7.60404141e+04, -9.91602539e+03, -1.69447839e+00,\n",
       "        6.07652068e-01,  8.64233594e+04, -1.45507539e+04, -1.34652959e+04,\n",
       "       -7.48235938e+05, -6.92143800e+06, -9.83067300e+06,  1.55897264e+01,\n",
       "        1.63469803e+00,  0.00000000e+00,  0.00000000e+00, -7.75609910e-01])"
      ]
     },
     "execution_count": 5,
     "metadata": {},
     "output_type": "execute_result"
    }
   ],
   "source": [
    "# There are additional properties for easily accessing summary statistics of the file:\n",
    "output.minima\n",
    "\n",
    "# To be implemented: dictionary access for statistics arrays, ie. output.minima[\"Wind1VelX\"]"
   ]
  },
  {
   "cell_type": "code",
   "execution_count": 6,
   "metadata": {},
   "outputs": [
    {
     "data": {
      "text/plain": [
       "array([6.00000000e+02, 4.96417207e+00, 5.10802603e+00, 3.34485972e+00,\n",
       "       3.59996589e+02, 3.99999952e+00, 1.25877619e+00, 3.08437169e+00,\n",
       "       1.88424541e+04, 1.92382588e+04, 1.88424541e+04, 1.67333062e+04,\n",
       "       1.92382588e+04, 1.79545518e+04, 3.18509598e+02, 1.84513428e+02,\n",
       "       0.00000000e+00, 5.80227798e+00, 0.00000000e+00, 0.00000000e+00,\n",
       "       0.00000000e+00, 0.00000000e+00, 3.31385044e+02, 1.30532770e+03,\n",
       "       1.52264584e+03, 3.55979219e+04, 3.55442637e+04, 3.56914961e+04,\n",
       "       3.52061211e+04, 3.52300703e+04, 3.52639492e+04, 2.22526426e+04,\n",
       "       2.24096470e+04, 2.23622603e+04, 2.18262632e+04, 2.25654177e+04,\n",
       "       2.22119512e+04, 1.89762070e+02, 1.72259762e+02, 1.82827024e+02,\n",
       "       1.25877619e+00, 7.50030182e+02, 5.14648285e+01, 1.19304473e+04,\n",
       "       1.37188218e+04, 4.50254027e-01, 3.10767755e-01, 0.00000000e+00,\n",
       "       5.89976794e+00, 5.83892599e+00, 5.84121174e+00, 5.80227798e+00,\n",
       "       5.74385953e+00, 5.74426556e+00, 3.09549594e+00, 3.08936715e+00,\n",
       "       3.08534801e+00, 3.08437169e+00, 3.10656917e+00, 3.09058392e+00,\n",
       "       2.84716032e-01, 2.74677727e-01, 2.76281598e-01, 4.25194990e-01,\n",
       "       2.93934733e-01, 1.18806473e+05, 1.66960047e+05, 1.95982988e+04,\n",
       "       0.00000000e+00, 1.10511090e+03, 7.52994812e+02, 2.48423828e+02,\n",
       "       3.87944482e+03, 1.76564844e+04, 1.95976836e+04, 2.10230234e+00,\n",
       "       3.32901680e+00, 5.90682766e+05, 2.58332578e+04, 2.48624033e+04,\n",
       "       1.72120081e+06, 1.68472460e+07, 1.92237150e+07, 2.03031645e+01,\n",
       "       2.79814327e+00, 0.00000000e+00, 0.00000000e+00, 1.65416491e+00])"
      ]
     },
     "execution_count": 6,
     "metadata": {},
     "output_type": "execute_result"
    }
   ],
   "source": [
    "output.ranges"
   ]
  },
  {
   "cell_type": "markdown",
   "metadata": {},
   "source": [
    "#### Passing OpenFAST Data in Directly"
   ]
  },
  {
   "cell_type": "code",
   "execution_count": 7,
   "metadata": {},
   "outputs": [],
   "source": [
    "# test_array = np.array(\n",
    "#     [\n",
    "#         [1, 0, 10, 1, 2],\n",
    "#         [2, 0, 10, 2, 4],\n",
    "#         [3, 0, 10, 3, 6],\n",
    "#         [4, 0, 10, 2, 8],\n",
    "#         [5, 0, 10, 1, 4],\n",
    "#     ]\n",
    "# )\n",
    "\n",
    "# output = OpenFASTOutput(data, dlc=\"TestDLC\")"
   ]
  },
  {
   "cell_type": "code",
   "execution_count": null,
   "metadata": {},
   "outputs": [],
   "source": []
  }
 ],
 "metadata": {
  "kernelspec": {
   "display_name": "Python 3",
   "language": "python",
   "name": "python3"
  },
  "language_info": {
   "codemirror_mode": {
    "name": "ipython",
    "version": 3
   },
   "file_extension": ".py",
   "mimetype": "text/x-python",
   "name": "python",
   "nbconvert_exporter": "python",
   "pygments_lexer": "ipython3",
   "version": "3.7.6"
  }
 },
 "nbformat": 4,
 "nbformat_minor": 4
}
