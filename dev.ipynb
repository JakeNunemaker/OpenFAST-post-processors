{
 "cells": [
  {
   "cell_type": "code",
   "execution_count": 1,
   "metadata": {},
   "outputs": [],
   "source": [
    "import os\n",
    "import numpy as np\n",
    "import pandas as pd\n",
    "from scipy.stats import weibull_min\n",
    "from OpenFAST_IO import OpenFASTOutput, OpenFASTBinary, OpenFASTAscii\n",
    "from OpenFAST_Processors import pyLife"
   ]
  },
  {
   "cell_type": "code",
   "execution_count": 2,
   "metadata": {},
   "outputs": [],
   "source": [
    "filepath = os.path.join(\"/Users/jnunemak/Desktop/repos/openfast-post-processors-dev/orig/mlife/CertTest/Data/DLC1.1_01_small.out\")\n",
    "output = OpenFASTAscii(filepath)\n",
    "output.read()"
   ]
  },
  {
   "cell_type": "code",
   "execution_count": 3,
   "metadata": {},
   "outputs": [
    {
     "data": {
      "text/plain": [
       "array(['Time', 'WindVxi', 'GenPwr', 'RotSpeed', 'OoPDefl1', 'IPDefl1',\n",
       "       'OoPDefl2', 'IPDefl2', 'OoPDefl3', 'IPDefl3', 'RootFxc1',\n",
       "       'RootFyc1', 'RootFzc1', 'RotTorq'], dtype='<U8')"
      ]
     },
     "execution_count": 3,
     "metadata": {},
     "output_type": "execute_result"
    }
   ],
   "source": [
    "output.channels"
   ]
  },
  {
   "cell_type": "code",
   "execution_count": 11,
   "metadata": {},
   "outputs": [],
   "source": [
    "filepath = os.path.join(\"/Users/jnunemak/Desktop/repos/openfast-post-processors-dev/orig/mlife/CertTest/Data/\")\n",
    "\n",
    "life = pyLife(filepath, files=[\"DLC2.3_1.out\"], max_bin_size=2, ws_max=31)\n",
    "life.read_files()"
   ]
  },
  {
   "cell_type": "code",
   "execution_count": 13,
   "metadata": {},
   "outputs": [
    {
     "data": {
      "text/plain": [
       "array([2.22487628e-02, 6.38200519e-02, 1.35130402e-01, 1.66174389e-01,\n",
       "       1.67768328e-01, 1.46660787e-01, 1.13677755e-01, 7.91202994e-02,\n",
       "       4.98230120e-02, 2.85243657e-02, 1.48966685e-02, 7.11341807e-03,\n",
       "       3.11130612e-03, 1.24812608e-03, 4.59698196e-04, 1.55575033e-04])"
      ]
     },
     "execution_count": 13,
     "metadata": {},
     "output_type": "execute_result"
    }
   ],
   "source": [
    "bounds, prob = life.compute_windspeed_bins()\n",
    "prob"
   ]
  },
  {
   "cell_type": "code",
   "execution_count": 14,
   "metadata": {},
   "outputs": [
    {
     "data": {
      "text/plain": [
       "array([ 1.5,  3. ,  5. ,  7. ,  9. , 11. , 13. , 15. , 17. , 19. , 21. ,\n",
       "       23. , 25. , 27. , 29. , 31. ])"
      ]
     },
     "execution_count": 14,
     "metadata": {},
     "output_type": "execute_result"
    }
   ],
   "source": [
    "bounds"
   ]
  },
  {
   "cell_type": "code",
   "execution_count": null,
   "metadata": {},
   "outputs": [],
   "source": []
  },
  {
   "cell_type": "code",
   "execution_count": null,
   "metadata": {},
   "outputs": [],
   "source": []
  },
  {
   "cell_type": "code",
   "execution_count": null,
   "metadata": {},
   "outputs": [],
   "source": []
  },
  {
   "cell_type": "code",
   "execution_count": null,
   "metadata": {},
   "outputs": [],
   "source": []
  },
  {
   "cell_type": "code",
   "execution_count": null,
   "metadata": {},
   "outputs": [],
   "source": []
  },
  {
   "cell_type": "code",
   "execution_count": null,
   "metadata": {},
   "outputs": [],
   "source": []
  },
  {
   "cell_type": "code",
   "execution_count": 15,
   "metadata": {},
   "outputs": [
    {
     "data": {
      "text/plain": [
       "(array([0, 1, 2]),)"
      ]
     },
     "execution_count": 15,
     "metadata": {},
     "output_type": "execute_result"
    }
   ],
   "source": [
    "mean = 5.1\n",
    "np.where(bounds < mean)"
   ]
  },
  {
   "cell_type": "code",
   "execution_count": 17,
   "metadata": {},
   "outputs": [
    {
     "data": {
      "text/plain": [
       "23"
      ]
     },
     "execution_count": 17,
     "metadata": {},
     "output_type": "execute_result"
    }
   ],
   "source": [
    "len(bounds)"
   ]
  },
  {
   "cell_type": "code",
   "execution_count": 5,
   "metadata": {},
   "outputs": [
    {
     "data": {
      "text/html": [
       "<div>\n",
       "<style scoped>\n",
       "    .dataframe tbody tr th:only-of-type {\n",
       "        vertical-align: middle;\n",
       "    }\n",
       "\n",
       "    .dataframe tbody tr th {\n",
       "        vertical-align: top;\n",
       "    }\n",
       "\n",
       "    .dataframe thead th {\n",
       "        text-align: right;\n",
       "    }\n",
       "</style>\n",
       "<table border=\"1\" class=\"dataframe\">\n",
       "  <thead>\n",
       "    <tr style=\"text-align: right;\">\n",
       "      <th></th>\n",
       "      <th>Channel</th>\n",
       "      <th>Minimum</th>\n",
       "      <th>Mean</th>\n",
       "      <th>Maximum</th>\n",
       "      <th>StdDev</th>\n",
       "      <th>Skewness</th>\n",
       "      <th>Kurtosis</th>\n",
       "      <th>Range</th>\n",
       "    </tr>\n",
       "  </thead>\n",
       "  <tbody>\n",
       "    <tr>\n",
       "      <th>125</th>\n",
       "      <td>Fair8Ten</td>\n",
       "      <td>200.0000</td>\n",
       "      <td>214.640000</td>\n",
       "      <td>263.0000</td>\n",
       "      <td>15.138000</td>\n",
       "      <td>1.306200</td>\n",
       "      <td>3.9955</td>\n",
       "      <td>63.0000</td>\n",
       "    </tr>\n",
       "    <tr>\n",
       "      <th>126</th>\n",
       "      <td>Fair8Ang</td>\n",
       "      <td>71.8000</td>\n",
       "      <td>80.572000</td>\n",
       "      <td>83.8000</td>\n",
       "      <td>3.174400</td>\n",
       "      <td>-1.104300</td>\n",
       "      <td>3.3336</td>\n",
       "      <td>12.0000</td>\n",
       "    </tr>\n",
       "    <tr>\n",
       "      <th>127</th>\n",
       "      <td>Anch8Ten</td>\n",
       "      <td>0.0000</td>\n",
       "      <td>0.000000</td>\n",
       "      <td>0.0000</td>\n",
       "      <td>0.000000</td>\n",
       "      <td>0.000000</td>\n",
       "      <td>0.0000</td>\n",
       "      <td>0.0000</td>\n",
       "    </tr>\n",
       "    <tr>\n",
       "      <th>128</th>\n",
       "      <td>Anch8Ang</td>\n",
       "      <td>0.0000</td>\n",
       "      <td>0.000000</td>\n",
       "      <td>0.0000</td>\n",
       "      <td>0.000000</td>\n",
       "      <td>0.000000</td>\n",
       "      <td>0.0000</td>\n",
       "      <td>0.0000</td>\n",
       "    </tr>\n",
       "    <tr>\n",
       "      <th>129</th>\n",
       "      <td>TipSpdRat</td>\n",
       "      <td>-0.0346</td>\n",
       "      <td>4.509100</td>\n",
       "      <td>8.8300</td>\n",
       "      <td>3.237600</td>\n",
       "      <td>-0.434680</td>\n",
       "      <td>1.3610</td>\n",
       "      <td>8.8646</td>\n",
       "    </tr>\n",
       "    <tr>\n",
       "      <th>130</th>\n",
       "      <td>RotCp</td>\n",
       "      <td>-0.2150</td>\n",
       "      <td>0.196910</td>\n",
       "      <td>0.4660</td>\n",
       "      <td>0.212810</td>\n",
       "      <td>-0.071073</td>\n",
       "      <td>1.1464</td>\n",
       "      <td>0.6810</td>\n",
       "    </tr>\n",
       "    <tr>\n",
       "      <th>131</th>\n",
       "      <td>RotCt</td>\n",
       "      <td>-0.6150</td>\n",
       "      <td>0.516610</td>\n",
       "      <td>1.1300</td>\n",
       "      <td>0.476320</td>\n",
       "      <td>-0.757930</td>\n",
       "      <td>2.2171</td>\n",
       "      <td>1.7450</td>\n",
       "    </tr>\n",
       "    <tr>\n",
       "      <th>132</th>\n",
       "      <td>RotCq</td>\n",
       "      <td>-0.0274</td>\n",
       "      <td>0.026532</td>\n",
       "      <td>0.0624</td>\n",
       "      <td>0.030894</td>\n",
       "      <td>-0.087672</td>\n",
       "      <td>1.1274</td>\n",
       "      <td>0.0898</td>\n",
       "    </tr>\n",
       "    <tr>\n",
       "      <th>133</th>\n",
       "      <td>RootFMxy1</td>\n",
       "      <td>29.0660</td>\n",
       "      <td>174.530000</td>\n",
       "      <td>300.3700</td>\n",
       "      <td>69.021000</td>\n",
       "      <td>-0.070736</td>\n",
       "      <td>1.8309</td>\n",
       "      <td>271.3100</td>\n",
       "    </tr>\n",
       "    <tr>\n",
       "      <th>134</th>\n",
       "      <td>RootMMxy1</td>\n",
       "      <td>459.7800</td>\n",
       "      <td>5018.900000</td>\n",
       "      <td>9134.1000</td>\n",
       "      <td>2673.200000</td>\n",
       "      <td>-0.093513</td>\n",
       "      <td>1.3498</td>\n",
       "      <td>8674.3000</td>\n",
       "    </tr>\n",
       "  </tbody>\n",
       "</table>\n",
       "</div>"
      ],
      "text/plain": [
       "       Channel   Minimum         Mean    Maximum       StdDev  Skewness  \\\n",
       "125   Fair8Ten  200.0000   214.640000   263.0000    15.138000  1.306200   \n",
       "126   Fair8Ang   71.8000    80.572000    83.8000     3.174400 -1.104300   \n",
       "127   Anch8Ten    0.0000     0.000000     0.0000     0.000000  0.000000   \n",
       "128   Anch8Ang    0.0000     0.000000     0.0000     0.000000  0.000000   \n",
       "129  TipSpdRat   -0.0346     4.509100     8.8300     3.237600 -0.434680   \n",
       "130      RotCp   -0.2150     0.196910     0.4660     0.212810 -0.071073   \n",
       "131      RotCt   -0.6150     0.516610     1.1300     0.476320 -0.757930   \n",
       "132      RotCq   -0.0274     0.026532     0.0624     0.030894 -0.087672   \n",
       "133  RootFMxy1   29.0660   174.530000   300.3700    69.021000 -0.070736   \n",
       "134  RootMMxy1  459.7800  5018.900000  9134.1000  2673.200000 -0.093513   \n",
       "\n",
       "     Kurtosis      Range  \n",
       "125    3.9955    63.0000  \n",
       "126    3.3336    12.0000  \n",
       "127    0.0000     0.0000  \n",
       "128    0.0000     0.0000  \n",
       "129    1.3610     8.8646  \n",
       "130    1.1464     0.6810  \n",
       "131    2.2171     1.7450  \n",
       "132    1.1274     0.0898  \n",
       "133    1.8309   271.3100  \n",
       "134    1.3498  8674.3000  "
      ]
     },
     "execution_count": 5,
     "metadata": {},
     "output_type": "execute_result"
    }
   ],
   "source": [
    "filepath = os.path.join(\"/Users/jnunemak/Desktop/repos/openfast-post-processors-dev/orig/mlife/CertTest/NREL_Results/Test02/DLC2.3_1_Statistics.txt\")\n",
    "\n",
    "data = []\n",
    "keep = False\n",
    "with open(filepath, \"rb\") as f:\n",
    "    \n",
    "    for i, _line in enumerate(f):\n",
    "        line = _line.replace(b\"\\xb7\", b\"-\").decode().strip()\n",
    "        \n",
    "        if line.startswith(\"Channel\"):\n",
    "            break\n",
    "            \n",
    "            \n",
    "data = pd.read_csv(filepath, skiprows=i, delim_whitespace=True)\n",
    "data.tail(10)\n",
    "        "
   ]
  },
  {
   "cell_type": "code",
   "execution_count": 6,
   "metadata": {},
   "outputs": [
    {
     "data": {
      "text/plain": [
       "False"
      ]
     },
     "execution_count": 6,
     "metadata": {},
     "output_type": "execute_result"
    }
   ],
   "source": [
    "np.allclose(life.minima, data[\"Minimum\"], rtol=1)"
   ]
  },
  {
   "cell_type": "code",
   "execution_count": 7,
   "metadata": {},
   "outputs": [
    {
     "data": {
      "text/plain": [
       "array([ 3.00000000e+01,  8.20000000e+00,  0.00000000e+00,  0.00000000e+00,\n",
       "       -8.12000000e-01, -5.42000000e-01,  0.00000000e+00, -7.48000000e-01,\n",
       "       -7.23000000e-01,  0.00000000e+00, -8.32000000e-01,  0.00000000e+00,\n",
       "        0.00000000e+00,  0.00000000e+00,  0.00000000e+00,  0.00000000e+00,\n",
       "        0.00000000e+00,  7.56000000e-02, -4.93000000e-02, -4.82000000e+00,\n",
       "       -2.13000000e-02, -5.07000000e-01, -2.09000000e+00, -9.38000000e-01,\n",
       "        0.00000000e+00, -3.08000000e+00, -8.94000000e-01,  0.00000000e+00,\n",
       "       -3.44000000e+00, -1.23000000e+00,  0.00000000e+00,  9.61000000e+00,\n",
       "        9.39000000e+00,  9.52000000e+00, -2.25000000e+00, -1.32000000e-01,\n",
       "       -4.79000000e-01, -8.20000000e-01, -5.22000000e-02,  0.00000000e+00,\n",
       "        4.77000000e+00, -1.30000000e-01, -1.01000000e+00, -1.14000000e-01,\n",
       "       -5.44000000e+00, -1.29000000e+00, -3.51000000e-01, -1.92000000e-02,\n",
       "       -3.52000000e-01, -1.27000000e+02, -2.12000000e+02,  1.13000000e+02,\n",
       "       -3.77000000e+03, -5.17000000e+03, -8.00000000e+01, -1.46000000e+02,\n",
       "       -2.05000000e+02, -1.68000000e+02, -4.04000000e+03, -6.63000000e+03,\n",
       "       -6.75000000e+01, -1.06000000e+02, -2.08000000e+02, -1.14000000e+02,\n",
       "       -3.77000000e+03, -5.69000000e+03, -6.67000000e+01, -5.76000000e+02,\n",
       "       -1.11000000e+03, -5.46000000e+01, -9.23000000e+02, -1.60000000e+03,\n",
       "       -5.01000000e+01, -5.99000000e+02, -1.93000000e+03, -4.83000000e+01,\n",
       "       -3.53000000e+02, -1.14000000e+03, -1.10000000e+03, -1.16000000e+03,\n",
       "       -3.84000000e+03, -3.36000000e+03, -1.20000000e+03, -6.53000000e+01,\n",
       "       -3.62000000e+03, -1.31000000e+03, -5.21000000e+03, -3.36000000e+03,\n",
       "       -1.68000000e+03, -1.37000000e+02, -7.16000000e+03, -4.94000000e+03,\n",
       "       -1.35000000e+05, -3.36000000e+03, -2.73000000e+03, -6.75000000e+04,\n",
       "       -3.36000000e+03,  2.00000000e+02,  7.17000000e+01,  0.00000000e+00,\n",
       "        0.00000000e+00,  2.34000000e+02,  7.03000000e+01,  0.00000000e+00,\n",
       "        0.00000000e+00,  2.79000000e+02,  5.97000000e+01,  0.00000000e+00,\n",
       "        0.00000000e+00,  2.90000000e+02,  4.51000000e+01,  0.00000000e+00,\n",
       "        0.00000000e+00,  2.90000000e+02,  4.50000000e+01,  0.00000000e+00,\n",
       "        0.00000000e+00,  2.78000000e+02,  5.98000000e+01,  0.00000000e+00,\n",
       "        0.00000000e+00,  2.34000000e+02,  7.03000000e+01,  0.00000000e+00,\n",
       "        0.00000000e+00,  2.00000000e+02,  7.18000000e+01,  0.00000000e+00,\n",
       "        0.00000000e+00, -3.46000000e-02, -2.15000000e-01, -6.15000000e-01,\n",
       "       -2.74000000e-02,  2.90663035e+01,  4.59778207e+02])"
      ]
     },
     "execution_count": 7,
     "metadata": {},
     "output_type": "execute_result"
    }
   ],
   "source": [
    "life.minima"
   ]
  },
  {
   "cell_type": "code",
   "execution_count": 38,
   "metadata": {},
   "outputs": [
    {
     "data": {
      "text/plain": [
       "0       30.0000\n",
       "1        8.2000\n",
       "2        0.0000\n",
       "3        0.0000\n",
       "4        0.1880\n",
       "         ...   \n",
       "130     -0.2150\n",
       "131     -0.6150\n",
       "132     -0.0274\n",
       "133     29.0660\n",
       "134    459.7800\n",
       "Name: Minimum, Length: 135, dtype: float64"
      ]
     },
     "execution_count": 38,
     "metadata": {},
     "output_type": "execute_result"
    }
   ],
   "source": [
    "data[\"Minimum\"]"
   ]
  },
  {
   "cell_type": "code",
   "execution_count": 93,
   "metadata": {},
   "outputs": [
    {
     "ename": "AttributeError",
     "evalue": "'pyLife' object has no attribute 'data'",
     "output_type": "error",
     "traceback": [
      "\u001b[0;31m---------------------------------------------------------------------------\u001b[0m",
      "\u001b[0;31mAttributeError\u001b[0m                            Traceback (most recent call last)",
      "\u001b[0;32m<ipython-input-93-11b4e09daf69>\u001b[0m in \u001b[0;36m<module>\u001b[0;34m\u001b[0m\n\u001b[0;32m----> 1\u001b[0;31m \u001b[0mlife\u001b[0m\u001b[0;34m.\u001b[0m\u001b[0mdata\u001b[0m\u001b[0;34m\u001b[0m\u001b[0;34m\u001b[0m\u001b[0m\n\u001b[0m",
      "\u001b[0;31mAttributeError\u001b[0m: 'pyLife' object has no attribute 'data'"
     ]
    }
   ],
   "source": [
    "life.data"
   ]
  },
  {
   "cell_type": "code",
   "execution_count": 9,
   "metadata": {},
   "outputs": [
    {
     "data": {
      "text/plain": [
       "array([ True,  True,  True,  True, False,  True,  True,  True,  True,\n",
       "        True,  True,  True,  True,  True,  True,  True,  True,  True,\n",
       "        True,  True,  True,  True,  True,  True,  True,  True,  True,\n",
       "        True,  True,  True,  True,  True,  True,  True,  True,  True,\n",
       "        True,  True,  True,  True,  True,  True,  True,  True,  True,\n",
       "        True,  True,  True,  True,  True,  True,  True,  True,  True,\n",
       "        True,  True,  True,  True,  True,  True,  True,  True,  True,\n",
       "        True,  True,  True,  True,  True,  True,  True,  True,  True,\n",
       "        True,  True,  True,  True,  True,  True,  True,  True,  True,\n",
       "        True,  True,  True,  True,  True,  True,  True,  True,  True,\n",
       "        True,  True,  True,  True,  True,  True,  True,  True,  True,\n",
       "        True,  True,  True,  True,  True,  True,  True,  True,  True,\n",
       "        True,  True,  True,  True,  True,  True,  True,  True,  True,\n",
       "        True,  True,  True,  True,  True,  True,  True,  True,  True,\n",
       "        True,  True,  True,  True,  True,  True,  True,  True,  True])"
      ]
     },
     "execution_count": 9,
     "metadata": {},
     "output_type": "execute_result"
    }
   ],
   "source": [
    "np.isclose(life.minima, data[\"Minimum\"], rtol=0.01)"
   ]
  },
  {
   "cell_type": "code",
   "execution_count": 11,
   "metadata": {},
   "outputs": [
    {
     "data": {
      "text/plain": [
       "array(['Time', 'WindVxi', 'WindVyi', 'WindVzi', 'WaveElev', 'Wave1Vxi',\n",
       "       'Wave1Vyi', 'Wave1Vzi', 'Wave1Axi', 'Wave1Ayi', 'Wave1Azi',\n",
       "       'GenPwr', 'GenTq', 'HSSBrTq', 'BldPitch1', 'BldPitch2',\n",
       "       'BldPitch3', 'Azimuth', 'RotSpeed', 'GenSpeed', 'NacYaw',\n",
       "       'NacYawErr', 'OoPDefl1', 'IPDefl1', 'TwstDefl1', 'OoPDefl2',\n",
       "       'IPDefl2', 'TwstDefl2', 'OoPDefl3', 'IPDefl3', 'TwstDefl3',\n",
       "       'TwrClrnc1', 'TwrClrnc2', 'TwrClrnc3', 'NcIMUTAxs', 'NcIMUTAys',\n",
       "       'NcIMUTAzs', 'TTDspFA', 'TTDspSS', 'TTDspTwst', 'PtfmSurge',\n",
       "       'PtfmSway', 'PtfmHeave', 'PtfmRoll', 'PtfmPitch', 'PtfmYaw',\n",
       "       'PtfmTAxt', 'PtfmTAyt', 'PtfmTAzt', 'RootFxc1', 'RootFyc1',\n",
       "       'RootFzc1', 'RootMxc1', 'RootMyc1', 'RootMzc1', 'RootFxc2',\n",
       "       'RootFyc2', 'RootFzc2', 'RootMxc2', 'RootMyc2', 'RootMzc2',\n",
       "       'RootFxc3', 'RootFyc3', 'RootFzc3', 'RootMxc3', 'RootMyc3',\n",
       "       'RootMzc3', 'Spn1MLxb1', 'Spn1MLyb1', 'Spn1MLzb1', 'Spn1MLxb2',\n",
       "       'Spn1MLyb2', 'Spn1MLzb2', 'Spn1MLxb3', 'Spn1MLyb3', 'Spn1MLzb3',\n",
       "       'RotThrust', 'LSSGagFya', 'LSSGagFza', 'RotTorq', 'LSSGagMya',\n",
       "       'LSSGagMza', 'YawBrFxp', 'YawBrFyp', 'YawBrFzp', 'YawBrMxp',\n",
       "       'YawBrMyp', 'YawBrMzp', 'TwrBsFxt', 'TwrBsFyt', 'TwrBsFzt',\n",
       "       'TwrBsMxt', 'TwrBsMyt', 'TwrBsMzt', 'TwHt1MLxt', 'TwHt1MLyt',\n",
       "       'TwHt1MLzt', 'Fair1Ten', 'Fair1Ang', 'Anch1Ten', 'Anch1Ang',\n",
       "       'Fair2Ten', 'Fair2Ang', 'Anch2Ten', 'Anch2Ang', 'Fair3Ten',\n",
       "       'Fair3Ang', 'Anch3Ten', 'Anch3Ang', 'Fair4Ten', 'Fair4Ang',\n",
       "       'Anch4Ten', 'Anch4Ang', 'Fair5Ten', 'Fair5Ang', 'Anch5Ten',\n",
       "       'Anch5Ang', 'Fair6Ten', 'Fair6Ang', 'Anch6Ten', 'Anch6Ang',\n",
       "       'Fair7Ten', 'Fair7Ang', 'Anch7Ten', 'Anch7Ang', 'Fair8Ten',\n",
       "       'Fair8Ang', 'Anch8Ten', 'Anch8Ang', 'TipSpdRat', 'RotCp', 'RotCt',\n",
       "       'RotCq', 'RootFMxy1', 'RootMMxy1'], dtype='<U9')"
      ]
     },
     "execution_count": 11,
     "metadata": {},
     "output_type": "execute_result"
    }
   ],
   "source": [
    "life.channels"
   ]
  },
  {
   "cell_type": "code",
   "execution_count": 38,
   "metadata": {},
   "outputs": [
    {
     "data": {
      "text/html": [
       "<div>\n",
       "<style scoped>\n",
       "    .dataframe tbody tr th:only-of-type {\n",
       "        vertical-align: middle;\n",
       "    }\n",
       "\n",
       "    .dataframe tbody tr th {\n",
       "        vertical-align: top;\n",
       "    }\n",
       "\n",
       "    .dataframe thead th {\n",
       "        text-align: right;\n",
       "    }\n",
       "</style>\n",
       "<table border=\"1\" class=\"dataframe\">\n",
       "  <thead>\n",
       "    <tr style=\"text-align: right;\">\n",
       "      <th></th>\n",
       "      <th>Channel</th>\n",
       "      <th>Minimum</th>\n",
       "      <th>Mean</th>\n",
       "      <th>Maximum</th>\n",
       "      <th>StdDev</th>\n",
       "      <th>Skewness</th>\n",
       "      <th>Kurtosis</th>\n",
       "      <th>Range</th>\n",
       "    </tr>\n",
       "  </thead>\n",
       "  <tbody>\n",
       "    <tr>\n",
       "      <th>0</th>\n",
       "      <td>Time</td>\n",
       "      <td>30.00000</td>\n",
       "      <td>60.000000</td>\n",
       "      <td>90.00000</td>\n",
       "      <td>17.342000</td>\n",
       "      <td>0.000000</td>\n",
       "      <td>1.8000</td>\n",
       "      <td>60.00000</td>\n",
       "    </tr>\n",
       "    <tr>\n",
       "      <th>1</th>\n",
       "      <td>WindVxi</td>\n",
       "      <td>8.19700</td>\n",
       "      <td>9.449400</td>\n",
       "      <td>12.72000</td>\n",
       "      <td>0.600070</td>\n",
       "      <td>3.359600</td>\n",
       "      <td>18.3310</td>\n",
       "      <td>4.52300</td>\n",
       "    </tr>\n",
       "    <tr>\n",
       "      <th>2</th>\n",
       "      <td>WindVyi</td>\n",
       "      <td>0.00000</td>\n",
       "      <td>0.000000</td>\n",
       "      <td>0.00000</td>\n",
       "      <td>0.000000</td>\n",
       "      <td>0.000000</td>\n",
       "      <td>0.0000</td>\n",
       "      <td>0.00000</td>\n",
       "    </tr>\n",
       "    <tr>\n",
       "      <th>3</th>\n",
       "      <td>WindVzi</td>\n",
       "      <td>0.00000</td>\n",
       "      <td>0.000000</td>\n",
       "      <td>0.00000</td>\n",
       "      <td>0.000000</td>\n",
       "      <td>0.000000</td>\n",
       "      <td>0.0000</td>\n",
       "      <td>0.00000</td>\n",
       "    </tr>\n",
       "    <tr>\n",
       "      <th>4</th>\n",
       "      <td>WaveElev</td>\n",
       "      <td>-0.05500</td>\n",
       "      <td>1.004400</td>\n",
       "      <td>1.86330</td>\n",
       "      <td>0.545010</td>\n",
       "      <td>-0.203630</td>\n",
       "      <td>1.8456</td>\n",
       "      <td>1.91830</td>\n",
       "    </tr>\n",
       "    <tr>\n",
       "      <th>...</th>\n",
       "      <td>...</td>\n",
       "      <td>...</td>\n",
       "      <td>...</td>\n",
       "      <td>...</td>\n",
       "      <td>...</td>\n",
       "      <td>...</td>\n",
       "      <td>...</td>\n",
       "      <td>...</td>\n",
       "    </tr>\n",
       "    <tr>\n",
       "      <th>130</th>\n",
       "      <td>RotCp</td>\n",
       "      <td>-0.21930</td>\n",
       "      <td>0.200870</td>\n",
       "      <td>0.48010</td>\n",
       "      <td>0.217370</td>\n",
       "      <td>-0.063715</td>\n",
       "      <td>1.1569</td>\n",
       "      <td>0.69940</td>\n",
       "    </tr>\n",
       "    <tr>\n",
       "      <th>131</th>\n",
       "      <td>RotCt</td>\n",
       "      <td>-0.68750</td>\n",
       "      <td>0.529240</td>\n",
       "      <td>1.17100</td>\n",
       "      <td>0.506780</td>\n",
       "      <td>-0.909380</td>\n",
       "      <td>2.3828</td>\n",
       "      <td>1.85850</td>\n",
       "    </tr>\n",
       "    <tr>\n",
       "      <th>132</th>\n",
       "      <td>RotCq</td>\n",
       "      <td>-0.02778</td>\n",
       "      <td>0.026894</td>\n",
       "      <td>0.06365</td>\n",
       "      <td>0.031315</td>\n",
       "      <td>-0.085106</td>\n",
       "      <td>1.1317</td>\n",
       "      <td>0.09143</td>\n",
       "    </tr>\n",
       "    <tr>\n",
       "      <th>133</th>\n",
       "      <td>RootFMxy1</td>\n",
       "      <td>18.63700</td>\n",
       "      <td>179.210000</td>\n",
       "      <td>303.90000</td>\n",
       "      <td>66.810000</td>\n",
       "      <td>-0.185490</td>\n",
       "      <td>2.1203</td>\n",
       "      <td>285.27000</td>\n",
       "    </tr>\n",
       "    <tr>\n",
       "      <th>134</th>\n",
       "      <td>RootMMxy1</td>\n",
       "      <td>277.60000</td>\n",
       "      <td>5134.800000</td>\n",
       "      <td>9079.30000</td>\n",
       "      <td>2644.700000</td>\n",
       "      <td>-0.121500</td>\n",
       "      <td>1.3650</td>\n",
       "      <td>8801.70000</td>\n",
       "    </tr>\n",
       "  </tbody>\n",
       "</table>\n",
       "<p>135 rows × 8 columns</p>\n",
       "</div>"
      ],
      "text/plain": [
       "       Channel    Minimum         Mean     Maximum       StdDev  Skewness  \\\n",
       "0         Time   30.00000    60.000000    90.00000    17.342000  0.000000   \n",
       "1      WindVxi    8.19700     9.449400    12.72000     0.600070  3.359600   \n",
       "2      WindVyi    0.00000     0.000000     0.00000     0.000000  0.000000   \n",
       "3      WindVzi    0.00000     0.000000     0.00000     0.000000  0.000000   \n",
       "4     WaveElev   -0.05500     1.004400     1.86330     0.545010 -0.203630   \n",
       "..         ...        ...          ...         ...          ...       ...   \n",
       "130      RotCp   -0.21930     0.200870     0.48010     0.217370 -0.063715   \n",
       "131      RotCt   -0.68750     0.529240     1.17100     0.506780 -0.909380   \n",
       "132      RotCq   -0.02778     0.026894     0.06365     0.031315 -0.085106   \n",
       "133  RootFMxy1   18.63700   179.210000   303.90000    66.810000 -0.185490   \n",
       "134  RootMMxy1  277.60000  5134.800000  9079.30000  2644.700000 -0.121500   \n",
       "\n",
       "     Kurtosis       Range  \n",
       "0      1.8000    60.00000  \n",
       "1     18.3310     4.52300  \n",
       "2      0.0000     0.00000  \n",
       "3      0.0000     0.00000  \n",
       "4      1.8456     1.91830  \n",
       "..        ...         ...  \n",
       "130    1.1569     0.69940  \n",
       "131    2.3828     1.85850  \n",
       "132    1.1317     0.09143  \n",
       "133    2.1203   285.27000  \n",
       "134    1.3650  8801.70000  \n",
       "\n",
       "[135 rows x 8 columns]"
      ]
     },
     "execution_count": 38,
     "metadata": {},
     "output_type": "execute_result"
    }
   ],
   "source": [
    "data"
   ]
  },
  {
   "cell_type": "code",
   "execution_count": 40,
   "metadata": {},
   "outputs": [
    {
     "data": {
      "text/plain": [
       "334.7076569480211"
      ]
     },
     "execution_count": 40,
     "metadata": {},
     "output_type": "execute_result"
    }
   ],
   "source": [
    "np.sqrt(output.data[:, 50] ** 2 + output.data[:, 51] ** 2).mean()"
   ]
  },
  {
   "cell_type": "code",
   "execution_count": 23,
   "metadata": {},
   "outputs": [
    {
     "data": {
      "text/html": [
       "<div>\n",
       "<style scoped>\n",
       "    .dataframe tbody tr th:only-of-type {\n",
       "        vertical-align: middle;\n",
       "    }\n",
       "\n",
       "    .dataframe tbody tr th {\n",
       "        vertical-align: top;\n",
       "    }\n",
       "\n",
       "    .dataframe thead th {\n",
       "        text-align: right;\n",
       "    }\n",
       "</style>\n",
       "<table border=\"1\" class=\"dataframe\">\n",
       "  <thead>\n",
       "    <tr style=\"text-align: right;\">\n",
       "      <th></th>\n",
       "      <th>Channel</th>\n",
       "      <th>Minimum</th>\n",
       "      <th>Mean</th>\n",
       "      <th>Maximum</th>\n",
       "      <th>StdDev</th>\n",
       "      <th>Skewness</th>\n",
       "      <th>Kurtosis</th>\n",
       "      <th>Range</th>\n",
       "    </tr>\n",
       "  </thead>\n",
       "  <tbody>\n",
       "    <tr>\n",
       "      <th>0</th>\n",
       "      <td>DLC2.3_1</td>\n",
       "      <td>-127</td>\n",
       "      <td>108</td>\n",
       "      <td>250</td>\n",
       "      <td>98.2</td>\n",
       "      <td>-0.401</td>\n",
       "      <td>1.79</td>\n",
       "      <td>377</td>\n",
       "    </tr>\n",
       "  </tbody>\n",
       "</table>\n",
       "</div>"
      ],
      "text/plain": [
       "    Channel  Minimum  Mean  Maximum  StdDev  Skewness  Kurtosis  Range\n",
       "0  DLC2.3_1     -127   108      250    98.2    -0.401      1.79    377"
      ]
     },
     "execution_count": 23,
     "metadata": {},
     "output_type": "execute_result"
    }
   ],
   "source": [
    "data = pd.read_csv(filepath, skiprows=5, delim_whitespace=True)\n",
    "data"
   ]
  },
  {
   "cell_type": "code",
   "execution_count": null,
   "metadata": {},
   "outputs": [],
   "source": []
  },
  {
   "cell_type": "code",
   "execution_count": 4,
   "metadata": {},
   "outputs": [
    {
     "data": {
      "text/plain": [
       "'These predictions were generated by FAST (v6.10a-jmj, 21-Feb-2007) on 01-Apr-2007 at 16:55:28. The aerodynamic calculations were made by AeroDyn (12.60i-pjm, 16-Nov-2006).  NREL 5.0 MW Baseline Wind Turbine for Use in Offshore Analysis.'"
      ]
     },
     "execution_count": 4,
     "metadata": {},
     "output_type": "execute_result"
    }
   ],
   "source": [
    "test.description"
   ]
  },
  {
   "cell_type": "code",
   "execution_count": 17,
   "metadata": {},
   "outputs": [
    {
     "data": {
      "text/plain": [
       "array([[1.79999998, 2.49719635, 2.55819379, 2.41119936, 3.10623597,\n",
       "        1.56788597, 3.09467569, 1.5697641 , 3.07628282, 1.57114124,\n",
       "        3.13778693, 1.50231245, 1.56663858, 2.43617668]])"
      ]
     },
     "execution_count": 17,
     "metadata": {},
     "output_type": "execute_result"
    }
   ],
   "source": [
    "test.kurtosis"
   ]
  },
  {
   "cell_type": "code",
   "execution_count": 4,
   "metadata": {},
   "outputs": [
    {
     "data": {
      "text/plain": [
       "2"
      ]
     },
     "execution_count": 4,
     "metadata": {},
     "output_type": "execute_result"
    }
   ],
   "source": [
    "a"
   ]
  },
  {
   "cell_type": "code",
   "execution_count": 129,
   "metadata": {},
   "outputs": [],
   "source": [
    "_start = False\n",
    "header = []\n",
    "with open(filepath, \"rb\") as f:\n",
    "    for _line in f:\n",
    "\n",
    "        line = _line.replace(b'\\xb7', b'-').decode().strip()\n",
    "        header.append(line)\n",
    "        \n",
    "        if _start:\n",
    "            break\n",
    "        \n",
    "        if line.startswith(\"Time\"):\n",
    "            _start = True"
   ]
  },
  {
   "cell_type": "code",
   "execution_count": 143,
   "metadata": {},
   "outputs": [
    {
     "data": {
      "text/plain": [
       "'These predictions were generated by FAST (v6.10a-jmj, 21-Feb-2007) on 01-Apr-2007 at 20:37:44. The aerodynamic calculations were made by AeroDyn (12.60i-pjm, 16-Nov-2006).  NREL 5.0 MW Baseline Wind Turbine for Use in Offshore Analysis.'"
      ]
     },
     "execution_count": 143,
     "metadata": {},
     "output_type": "execute_result"
    }
   ],
   "source": [
    "descr = \" \".join([h.replace('\"', '') for h in header[:-2]]).strip()\n",
    "descr"
   ]
  },
  {
   "cell_type": "code",
   "execution_count": 145,
   "metadata": {},
   "outputs": [
    {
     "data": {
      "text/plain": [
       "['Time\\tWindVxi\\tWindVyi\\tWindVzi\\tWaveElev\\tWave1Vxi\\tWave1Vyi\\tWave1Vzi\\tWave1Axi\\tWave1Ayi\\tWave1Azi\\tGenPwr\\tGenTq\\tHSSBrTq\\tBldPitch1\\tBldPitch2\\tBldPitch3\\tAzimuth\\tRotSpeed\\tGenSpeed\\tNacYaw\\tNacYawErr\\tOoPDefl1\\tIPDefl1\\tTwstDefl1\\tOoPDefl2\\tIPDefl2\\tTwstDefl2\\tOoPDefl3\\tIPDefl3\\tTwstDefl3\\tTwrClrnc1\\tTwrClrnc2\\tTwrClrnc3\\tNcIMUTAxs\\tNcIMUTAys\\tNcIMUTAzs\\tTTDspFA\\tTTDspSS\\tTTDspTwst\\tPtfmSurge\\tPtfmSway\\tPtfmHeave\\tPtfmRoll\\tPtfmPitch\\tPtfmYaw\\tPtfmTAxt\\tPtfmTAyt\\tPtfmTAzt\\tRootFxc1\\tRootFyc1\\tRootFzc1\\tRootMxc1\\tRootMyc1\\tRootMzc1\\tRootFxc2\\tRootFyc2\\tRootFzc2\\tRootMxc2\\tRootMyc2\\tRootMzc2\\tRootFxc3\\tRootFyc3\\tRootFzc3\\tRootMxc3\\tRootMyc3\\tRootMzc3\\tSpn1MLxb1\\tSpn1MLyb1\\tSpn1MLzb1\\tSpn1MLxb2\\tSpn1MLyb2\\tSpn1MLzb2\\tSpn1MLxb3\\tSpn1MLyb3\\tSpn1MLzb3\\tRotThrust\\tLSSGagFya\\tLSSGagFza\\tRotTorq\\tLSSGagMya\\tLSSGagMza\\tYawBrFxp\\tYawBrFyp\\tYawBrFzp\\tYawBrMxp\\tYawBrMyp\\tYawBrMzp\\tTwrBsFxt\\tTwrBsFyt\\tTwrBsFzt\\tTwrBsMxt\\tTwrBsMyt\\tTwrBsMzt\\tTwHt1MLxt\\tTwHt1MLyt\\tTwHt1MLzt\\tFair1Ten\\tFair1Ang\\tAnch1Ten\\tAnch1Ang\\tFair2Ten\\tFair2Ang\\tAnch2Ten\\tAnch2Ang\\tFair3Ten\\tFair3Ang\\tAnch3Ten\\tAnch3Ang\\tFair4Ten\\tFair4Ang\\tAnch4Ten\\tAnch4Ang\\tFair5Ten\\tFair5Ang\\tAnch5Ten\\tAnch5Ang\\tFair6Ten\\tFair6Ang\\tAnch6Ten\\tAnch6Ang\\tFair7Ten\\tFair7Ang\\tAnch7Ten\\tAnch7Ang\\tFair8Ten\\tFair8Ang\\tAnch8Ten\\tAnch8Ang\\tTipSpdRat\\tRotCp\\tRotCt\\tRotCq',\n",
       " '(sec)\\t(m/sec)\\t(m/sec)\\t(m/sec)\\t(m)\\t(m/sec)\\t(m/sec)\\t(m/sec)\\t(m/sec^2)\\t(m/sec^2)\\t(m/sec^2)\\t(kW)\\t(kN-m)\\t(kN-m)\\t(deg)\\t(deg)\\t(deg)\\t(deg)\\t(rpm)\\t(rpm)\\t(deg)\\t(deg)\\t(m)\\t(m)\\t(deg)\\t(m)\\t(m)\\t(deg)\\t(m)\\t(m)\\t(deg)\\t(m)\\t(m)\\t(m)\\t(m/sec^2)\\t(m/sec^2)\\t(m/sec^2)\\t(m)\\t(m)\\t(deg)\\t(m)\\t(m)\\t(m)\\t(deg)\\t(deg)\\t(deg)\\t(m/sec^2)\\t(m/sec^2)\\t(m/sec^2)\\t(kN)\\t(kN)\\t(kN)\\t(kN-m)\\t(kN-m)\\t(kN-m)\\t(kN)\\t(kN)\\t(kN)\\t(kN-m)\\t(kN-m)\\t(kN-m)\\t(kN)\\t(kN)\\t(kN)\\t(kN-m)\\t(kN-m)\\t(kN-m)\\t(kN-m)\\t(kN-m)\\t(kN-m)\\t(kN-m)\\t(kN-m)\\t(kN-m)\\t(kN-m)\\t(kN-m)\\t(kN-m)\\t(kN)\\t(kN)\\t(kN)\\t(kN-m)\\t(kN-m)\\t(kN-m)\\t(kN)\\t(kN)\\t(kN)\\t(kN-m)\\t(kN-m)\\t(kN-m)\\t(kN)\\t(kN)\\t(kN)\\t(kN-m)\\t(kN-m)\\t(kN-m)\\t(kN-m)\\t(kN-m)\\t(kN-m)\\t(kN)\\t(deg)\\t(kN)\\t(deg)\\t(kN)\\t(deg)\\t(kN)\\t(deg)\\t(kN)\\t(deg)\\t(kN)\\t(deg)\\t(kN)\\t(deg)\\t(kN)\\t(deg)\\t(kN)\\t(deg)\\t(kN)\\t(deg)\\t(kN)\\t(deg)\\t(kN)\\t(deg)\\t(kN)\\t(deg)\\t(kN)\\t(deg)\\t(kN)\\t(deg)\\t(kN)\\t(deg)\\t(-)\\t(-)\\t(-)\\t(-)']"
      ]
     },
     "execution_count": 145,
     "metadata": {},
     "output_type": "execute_result"
    }
   ],
   "source": [
    "header[-2:]"
   ]
  },
  {
   "cell_type": "code",
   "execution_count": null,
   "metadata": {},
   "outputs": [],
   "source": []
  },
  {
   "cell_type": "code",
   "execution_count": null,
   "metadata": {},
   "outputs": [],
   "source": []
  },
  {
   "cell_type": "code",
   "execution_count": 133,
   "metadata": {},
   "outputs": [
    {
     "data": {
      "text/plain": [
       "[('Time', '(sec)'),\n",
       " ('WindVxi', '(m/sec)'),\n",
       " ('WindVyi', '(m/sec)'),\n",
       " ('WindVzi', '(m/sec)'),\n",
       " ('WaveElev', '(m)'),\n",
       " ('Wave1Vxi', '(m/sec)'),\n",
       " ('Wave1Vyi', '(m/sec)'),\n",
       " ('Wave1Vzi', '(m/sec)'),\n",
       " ('Wave1Axi', '(m/sec^2)'),\n",
       " ('Wave1Ayi', '(m/sec^2)'),\n",
       " ('Wave1Azi', '(m/sec^2)'),\n",
       " ('GenPwr', '(kW)'),\n",
       " ('GenTq', '(kN-m)'),\n",
       " ('HSSBrTq', '(kN-m)'),\n",
       " ('BldPitch1', '(deg)'),\n",
       " ('BldPitch2', '(deg)'),\n",
       " ('BldPitch3', '(deg)'),\n",
       " ('Azimuth', '(deg)'),\n",
       " ('RotSpeed', '(rpm)'),\n",
       " ('GenSpeed', '(rpm)'),\n",
       " ('NacYaw', '(deg)'),\n",
       " ('NacYawErr', '(deg)'),\n",
       " ('OoPDefl1', '(m)'),\n",
       " ('IPDefl1', '(m)'),\n",
       " ('TwstDefl1', '(deg)'),\n",
       " ('OoPDefl2', '(m)'),\n",
       " ('IPDefl2', '(m)'),\n",
       " ('TwstDefl2', '(deg)'),\n",
       " ('OoPDefl3', '(m)'),\n",
       " ('IPDefl3', '(m)'),\n",
       " ('TwstDefl3', '(deg)'),\n",
       " ('TwrClrnc1', '(m)'),\n",
       " ('TwrClrnc2', '(m)'),\n",
       " ('TwrClrnc3', '(m)'),\n",
       " ('NcIMUTAxs', '(m/sec^2)'),\n",
       " ('NcIMUTAys', '(m/sec^2)'),\n",
       " ('NcIMUTAzs', '(m/sec^2)'),\n",
       " ('TTDspFA', '(m)'),\n",
       " ('TTDspSS', '(m)'),\n",
       " ('TTDspTwst', '(deg)'),\n",
       " ('PtfmSurge', '(m)'),\n",
       " ('PtfmSway', '(m)'),\n",
       " ('PtfmHeave', '(m)'),\n",
       " ('PtfmRoll', '(deg)'),\n",
       " ('PtfmPitch', '(deg)'),\n",
       " ('PtfmYaw', '(deg)'),\n",
       " ('PtfmTAxt', '(m/sec^2)'),\n",
       " ('PtfmTAyt', '(m/sec^2)'),\n",
       " ('PtfmTAzt', '(m/sec^2)'),\n",
       " ('RootFxc1', '(kN)'),\n",
       " ('RootFyc1', '(kN)'),\n",
       " ('RootFzc1', '(kN)'),\n",
       " ('RootMxc1', '(kN-m)'),\n",
       " ('RootMyc1', '(kN-m)'),\n",
       " ('RootMzc1', '(kN-m)'),\n",
       " ('RootFxc2', '(kN)'),\n",
       " ('RootFyc2', '(kN)'),\n",
       " ('RootFzc2', '(kN)'),\n",
       " ('RootMxc2', '(kN-m)'),\n",
       " ('RootMyc2', '(kN-m)'),\n",
       " ('RootMzc2', '(kN-m)'),\n",
       " ('RootFxc3', '(kN)'),\n",
       " ('RootFyc3', '(kN)'),\n",
       " ('RootFzc3', '(kN)'),\n",
       " ('RootMxc3', '(kN-m)'),\n",
       " ('RootMyc3', '(kN-m)'),\n",
       " ('RootMzc3', '(kN-m)'),\n",
       " ('Spn1MLxb1', '(kN-m)'),\n",
       " ('Spn1MLyb1', '(kN-m)'),\n",
       " ('Spn1MLzb1', '(kN-m)'),\n",
       " ('Spn1MLxb2', '(kN-m)'),\n",
       " ('Spn1MLyb2', '(kN-m)'),\n",
       " ('Spn1MLzb2', '(kN-m)'),\n",
       " ('Spn1MLxb3', '(kN-m)'),\n",
       " ('Spn1MLyb3', '(kN-m)'),\n",
       " ('Spn1MLzb3', '(kN-m)'),\n",
       " ('RotThrust', '(kN)'),\n",
       " ('LSSGagFya', '(kN)'),\n",
       " ('LSSGagFza', '(kN)'),\n",
       " ('RotTorq', '(kN-m)'),\n",
       " ('LSSGagMya', '(kN-m)'),\n",
       " ('LSSGagMza', '(kN-m)'),\n",
       " ('YawBrFxp', '(kN)'),\n",
       " ('YawBrFyp', '(kN)'),\n",
       " ('YawBrFzp', '(kN)'),\n",
       " ('YawBrMxp', '(kN-m)'),\n",
       " ('YawBrMyp', '(kN-m)'),\n",
       " ('YawBrMzp', '(kN-m)'),\n",
       " ('TwrBsFxt', '(kN)'),\n",
       " ('TwrBsFyt', '(kN)'),\n",
       " ('TwrBsFzt', '(kN)'),\n",
       " ('TwrBsMxt', '(kN-m)'),\n",
       " ('TwrBsMyt', '(kN-m)'),\n",
       " ('TwrBsMzt', '(kN-m)'),\n",
       " ('TwHt1MLxt', '(kN-m)'),\n",
       " ('TwHt1MLyt', '(kN-m)'),\n",
       " ('TwHt1MLzt', '(kN-m)'),\n",
       " ('Fair1Ten', '(kN)'),\n",
       " ('Fair1Ang', '(deg)'),\n",
       " ('Anch1Ten', '(kN)'),\n",
       " ('Anch1Ang', '(deg)'),\n",
       " ('Fair2Ten', '(kN)'),\n",
       " ('Fair2Ang', '(deg)'),\n",
       " ('Anch2Ten', '(kN)'),\n",
       " ('Anch2Ang', '(deg)'),\n",
       " ('Fair3Ten', '(kN)'),\n",
       " ('Fair3Ang', '(deg)'),\n",
       " ('Anch3Ten', '(kN)'),\n",
       " ('Anch3Ang', '(deg)'),\n",
       " ('Fair4Ten', '(kN)'),\n",
       " ('Fair4Ang', '(deg)'),\n",
       " ('Anch4Ten', '(kN)'),\n",
       " ('Anch4Ang', '(deg)'),\n",
       " ('Fair5Ten', '(kN)'),\n",
       " ('Fair5Ang', '(deg)'),\n",
       " ('Anch5Ten', '(kN)'),\n",
       " ('Anch5Ang', '(deg)'),\n",
       " ('Fair6Ten', '(kN)'),\n",
       " ('Fair6Ang', '(deg)'),\n",
       " ('Anch6Ten', '(kN)'),\n",
       " ('Anch6Ang', '(deg)'),\n",
       " ('Fair7Ten', '(kN)'),\n",
       " ('Fair7Ang', '(deg)'),\n",
       " ('Anch7Ten', '(kN)'),\n",
       " ('Anch7Ang', '(deg)'),\n",
       " ('Fair8Ten', '(kN)'),\n",
       " ('Fair8Ang', '(deg)'),\n",
       " ('Anch8Ten', '(kN)'),\n",
       " ('Anch8Ang', '(deg)'),\n",
       " ('TipSpdRat', '(-)'),\n",
       " ('RotCp', '(-)'),\n",
       " ('RotCt', '(-)'),\n",
       " ('RotCq', '(-)')]"
      ]
     },
     "execution_count": 133,
     "metadata": {},
     "output_type": "execute_result"
    }
   ],
   "source": [
    "columns = [a for a in header[-2].split(\"\\t\")]\n",
    "units = [b for b in header[-1].split(\"\\t\")]\n",
    "\n",
    "headers = list(zip(columns, units))\n",
    "headers"
   ]
  },
  {
   "cell_type": "code",
   "execution_count": 132,
   "metadata": {},
   "outputs": [
    {
     "data": {
      "text/plain": [
       "['Time',\n",
       " 'WindVxi',\n",
       " 'WindVyi',\n",
       " 'WindVzi',\n",
       " 'WaveElev',\n",
       " 'Wave1Vxi',\n",
       " 'Wave1Vyi',\n",
       " 'Wave1Vzi',\n",
       " 'Wave1Axi',\n",
       " 'Wave1Ayi',\n",
       " 'Wave1Azi',\n",
       " 'GenPwr',\n",
       " 'GenTq',\n",
       " 'HSSBrTq',\n",
       " 'BldPitch1',\n",
       " 'BldPitch2',\n",
       " 'BldPitch3',\n",
       " 'Azimuth',\n",
       " 'RotSpeed',\n",
       " 'GenSpeed',\n",
       " 'NacYaw',\n",
       " 'NacYawErr',\n",
       " 'OoPDefl1',\n",
       " 'IPDefl1',\n",
       " 'TwstDefl1',\n",
       " 'OoPDefl2',\n",
       " 'IPDefl2',\n",
       " 'TwstDefl2',\n",
       " 'OoPDefl3',\n",
       " 'IPDefl3',\n",
       " 'TwstDefl3',\n",
       " 'TwrClrnc1',\n",
       " 'TwrClrnc2',\n",
       " 'TwrClrnc3',\n",
       " 'NcIMUTAxs',\n",
       " 'NcIMUTAys',\n",
       " 'NcIMUTAzs',\n",
       " 'TTDspFA',\n",
       " 'TTDspSS',\n",
       " 'TTDspTwst',\n",
       " 'PtfmSurge',\n",
       " 'PtfmSway',\n",
       " 'PtfmHeave',\n",
       " 'PtfmRoll',\n",
       " 'PtfmPitch',\n",
       " 'PtfmYaw',\n",
       " 'PtfmTAxt',\n",
       " 'PtfmTAyt',\n",
       " 'PtfmTAzt',\n",
       " 'RootFxc1',\n",
       " 'RootFyc1',\n",
       " 'RootFzc1',\n",
       " 'RootMxc1',\n",
       " 'RootMyc1',\n",
       " 'RootMzc1',\n",
       " 'RootFxc2',\n",
       " 'RootFyc2',\n",
       " 'RootFzc2',\n",
       " 'RootMxc2',\n",
       " 'RootMyc2',\n",
       " 'RootMzc2',\n",
       " 'RootFxc3',\n",
       " 'RootFyc3',\n",
       " 'RootFzc3',\n",
       " 'RootMxc3',\n",
       " 'RootMyc3',\n",
       " 'RootMzc3',\n",
       " 'Spn1MLxb1',\n",
       " 'Spn1MLyb1',\n",
       " 'Spn1MLzb1',\n",
       " 'Spn1MLxb2',\n",
       " 'Spn1MLyb2',\n",
       " 'Spn1MLzb2',\n",
       " 'Spn1MLxb3',\n",
       " 'Spn1MLyb3',\n",
       " 'Spn1MLzb3',\n",
       " 'RotThrust',\n",
       " 'LSSGagFya',\n",
       " 'LSSGagFza',\n",
       " 'RotTorq',\n",
       " 'LSSGagMya',\n",
       " 'LSSGagMza',\n",
       " 'YawBrFxp',\n",
       " 'YawBrFyp',\n",
       " 'YawBrFzp',\n",
       " 'YawBrMxp',\n",
       " 'YawBrMyp',\n",
       " 'YawBrMzp',\n",
       " 'TwrBsFxt',\n",
       " 'TwrBsFyt',\n",
       " 'TwrBsFzt',\n",
       " 'TwrBsMxt',\n",
       " 'TwrBsMyt',\n",
       " 'TwrBsMzt',\n",
       " 'TwHt1MLxt',\n",
       " 'TwHt1MLyt',\n",
       " 'TwHt1MLzt',\n",
       " 'Fair1Ten',\n",
       " 'Fair1Ang',\n",
       " 'Anch1Ten',\n",
       " 'Anch1Ang',\n",
       " 'Fair2Ten',\n",
       " 'Fair2Ang',\n",
       " 'Anch2Ten',\n",
       " 'Anch2Ang',\n",
       " 'Fair3Ten',\n",
       " 'Fair3Ang',\n",
       " 'Anch3Ten',\n",
       " 'Anch3Ang',\n",
       " 'Fair4Ten',\n",
       " 'Fair4Ang',\n",
       " 'Anch4Ten',\n",
       " 'Anch4Ang',\n",
       " 'Fair5Ten',\n",
       " 'Fair5Ang',\n",
       " 'Anch5Ten',\n",
       " 'Anch5Ang',\n",
       " 'Fair6Ten',\n",
       " 'Fair6Ang',\n",
       " 'Anch6Ten',\n",
       " 'Anch6Ang',\n",
       " 'Fair7Ten',\n",
       " 'Fair7Ang',\n",
       " 'Anch7Ten',\n",
       " 'Anch7Ang',\n",
       " 'Fair8Ten',\n",
       " 'Fair8Ang',\n",
       " 'Anch8Ten',\n",
       " 'Anch8Ang',\n",
       " 'TipSpdRat',\n",
       " 'RotCp',\n",
       " 'RotCt',\n",
       " 'RotCq']"
      ]
     },
     "execution_count": 132,
     "metadata": {},
     "output_type": "execute_result"
    }
   ],
   "source": [
    "header[-2].split(\"\\t\")"
   ]
  },
  {
   "cell_type": "code",
   "execution_count": 81,
   "metadata": {},
   "outputs": [
    {
     "ename": "TypeError",
     "evalue": "startswith first arg must be bytes or a tuple of bytes, not str",
     "output_type": "error",
     "traceback": [
      "\u001b[0;31m------------------------------------------------------------------\u001b[0m",
      "\u001b[0;31mTypeError\u001b[0m                        Traceback (most recent call last)",
      "\u001b[0;32m<ipython-input-81-7268e06d3e51>\u001b[0m in \u001b[0;36m<module>\u001b[0;34m\u001b[0m\n\u001b[0;32m----> 1\u001b[0;31m \u001b[0mline\u001b[0m\u001b[0;34m.\u001b[0m\u001b[0mstartswith\u001b[0m\u001b[0;34m(\u001b[0m\u001b[0;34m\"Time\"\u001b[0m\u001b[0;34m)\u001b[0m\u001b[0;34m\u001b[0m\u001b[0;34m\u001b[0m\u001b[0m\n\u001b[0m",
      "\u001b[0;31mTypeError\u001b[0m: startswith first arg must be bytes or a tuple of bytes, not str"
     ]
    }
   ],
   "source": [
    "line.startswith(\"Time\")"
   ]
  },
  {
   "cell_type": "code",
   "execution_count": 61,
   "metadata": {},
   "outputs": [
    {
     "ename": "ValueError",
     "evalue": "readline of closed file",
     "output_type": "error",
     "traceback": [
      "\u001b[0;31m------------------------------------------------------------------\u001b[0m",
      "\u001b[0;31mValueError\u001b[0m                       Traceback (most recent call last)",
      "\u001b[0;32m<ipython-input-61-7e1d2e12b839>\u001b[0m in \u001b[0;36m<module>\u001b[0;34m\u001b[0m\n\u001b[0;32m----> 1\u001b[0;31m \u001b[0mf\u001b[0m\u001b[0;34m.\u001b[0m\u001b[0mreadline\u001b[0m\u001b[0;34m(\u001b[0m\u001b[0;34m)\u001b[0m\u001b[0;34m\u001b[0m\u001b[0;34m\u001b[0m\u001b[0m\n\u001b[0m",
      "\u001b[0;31mValueError\u001b[0m: readline of closed file"
     ]
    }
   ],
   "source": [
    "f.readline()"
   ]
  },
  {
   "cell_type": "code",
   "execution_count": null,
   "metadata": {},
   "outputs": [],
   "source": [
    "pd.read_csv(filepat)"
   ]
  }
 ],
 "metadata": {
  "kernelspec": {
   "display_name": "Python 3",
   "language": "python",
   "name": "python3"
  },
  "language_info": {
   "codemirror_mode": {
    "name": "ipython",
    "version": 3
   },
   "file_extension": ".py",
   "mimetype": "text/x-python",
   "name": "python",
   "nbconvert_exporter": "python",
   "pygments_lexer": "ipython3",
   "version": "3.7.7"
  }
 },
 "nbformat": 4,
 "nbformat_minor": 4
}
